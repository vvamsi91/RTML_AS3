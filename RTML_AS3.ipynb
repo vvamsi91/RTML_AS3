{
  "nbformat": 4,
  "nbformat_minor": 0,
  "metadata": {
    "colab": {
      "provenance": [],
      "authorship_tag": "ABX9TyPSmaDDl6ehxE7YHEfMHe0G",
      "include_colab_link": true
    },
    "kernelspec": {
      "name": "python3",
      "display_name": "Python 3"
    },
    "language_info": {
      "name": "python"
    }
  },
  "cells": [
    {
      "cell_type": "markdown",
      "metadata": {
        "id": "view-in-github",
        "colab_type": "text"
      },
      "source": [
        "<a href=\"https://colab.research.google.com/github/vvamsi91/RTML_AS3/blob/main/RTML_AS3.ipynb\" target=\"_parent\"><img src=\"https://colab.research.google.com/assets/colab-badge.svg\" alt=\"Open In Colab\"/></a>"
      ]
    },
    {
      "cell_type": "code",
      "execution_count": null,
      "metadata": {
        "id": "Qh0jyHpQGblU"
      },
      "outputs": [],
      "source": [
        "import torch\n",
        "import torch.nn as nn\n",
        "import torch.optim as optim\n",
        "import numpy as np\n",
        "from sklearn.model_selection import train_test_split\n",
        "import time"
      ]
    },
    {
      "cell_type": "code",
      "source": [
        "text = \"\"\"Next character prediction is a fundamental task in the field of natural language processing (NLP) that involves predicting the next character in a sequence of text based on the characters that precede it. This task is essential for various applications, including text auto-completion, spell checking, and even in the development of sophisticated AI models capable of generating human-like text.\n",
        "\n",
        "At its core, next character prediction relies on statistical models or deep learning algorithms to analyze a given sequence of text and predict which character is most likely to follow. These predictions are based on patterns and relationships learned from large datasets of text during the training phase of the model.\n",
        "\n",
        "One of the most popular approaches to next character prediction involves the use of Recurrent Neural Networks (RNNs), and more specifically, a variant called Long Short-Term Memory (LSTM) networks. RNNs are particularly well-suited for sequential data like text, as they can maintain information in 'memory' about previous characters to inform the prediction of the next character. LSTM networks enhance this capability by being able to remember long-term dependencies, making them even more effective for next character prediction tasks.\n",
        "\n",
        "Training a model for next character prediction involves feeding it large amounts of text data, allowing it to learn the probability of each character's appearance following a sequence of characters. During this training process, the model adjusts its parameters to minimize the difference between its predictions and the actual outcomes, thus improving its predictive accuracy over time.\n",
        "\n",
        "Once trained, the model can be used to predict the next character in a given piece of text by considering the sequence of characters that precede it. This can enhance user experience in text editing software, improve efficiency in coding environments with auto-completion features, and enable more natural interactions with AI-based chatbots and virtual assistants.\n",
        "\n",
        "In summary, next character prediction plays a crucial role in enhancing the capabilities of various NLP applications, making text-based interactions more efficient, accurate, and human-like. Through the use of advanced machine learning models like RNNs and LSTMs, next character prediction continues to evolve, opening new possibilities for the future of text-based technology.\"\"\"\n"
      ],
      "metadata": {
        "id": "S5oPaqmT5Dti"
      },
      "execution_count": null,
      "outputs": []
    },
    {
      "cell_type": "code",
      "source": [
        "unique_chars = sorted(set(text))\n",
        "char_to_ix = {ch: i for i, ch in enumerate(unique_chars)}\n",
        "ix_to_char = {i: ch for i, ch in enumerate(unique_chars)}\n"
      ],
      "metadata": {
        "id": "H8zBKSwK43U-"
      },
      "execution_count": null,
      "outputs": []
    },
    {
      "cell_type": "code",
      "source": [
        "def prepare_dataset(text, max_length):\n",
        "    # Initialize empty lists for sequences (X) and labels (y)\n",
        "    X = []\n",
        "    y = []\n",
        "\n",
        "    # Create a character-to-index mapping for the unique characters in the text\n",
        "    char_to_ix = {ch: i for i, ch in enumerate(sorted(set(text)))}\n",
        "\n",
        "    # Iterate through the text to create sequences and corresponding labels\n",
        "    for i in range(len(text) - max_length):\n",
        "        # Extract a sequence of length 'max_length' and its label\n",
        "        sequence = text[i:i + max_length]\n",
        "        label = text[i + max_length]\n",
        "\n",
        "        # Convert characters to indices using the char_to_ix mapping\n",
        "        X.append([char_to_ix[char] for char in sequence])\n",
        "        y.append(char_to_ix[label])\n",
        "\n",
        "    # Convert lists to NumPy arrays\n",
        "    X = np.array(X)\n",
        "    y = np.array(y)\n",
        "\n",
        "    return X, y"
      ],
      "metadata": {
        "id": "l8mjyq5M5MbP"
      },
      "execution_count": null,
      "outputs": []
    },
    {
      "cell_type": "code",
      "source": [
        "\n",
        "\n",
        "class RNNModel(nn.Module):\n",
        "    def __init__(self, input_size, hidden_size, output_size):\n",
        "        super(RNNModel, self).__init__()\n",
        "\n",
        "        # Set hyperparameters\n",
        "        self.hidden_size = hidden_size\n",
        "\n",
        "        # Define layers\n",
        "        self.embedding = nn.Embedding(input_size, hidden_size)\n",
        "        self.rnn = nn.RNN(hidden_size, hidden_size, batch_first=True)\n",
        "        self.fc = nn.Linear(hidden_size, output_size)\n",
        "\n",
        "    def forward(self, x):\n",
        "        # Embed input sequence\n",
        "        embedded = self.embedding(x)\n",
        "\n",
        "        # Apply RNN layer\n",
        "        output, _ = self.rnn(embedded)\n",
        "\n",
        "        # Extract the last time step and pass through the linear layer\n",
        "        output = self.fc(output[:, -1, :])\n",
        "\n",
        "        return output\n"
      ],
      "metadata": {
        "id": "eGv6JcJS5cj9"
      },
      "execution_count": null,
      "outputs": []
    },
    {
      "cell_type": "code",
      "source": [
        "class LSTMModel(nn.Module):\n",
        "    def __init__(self, input_size, hidden_size, output_size):\n",
        "        super(LSTMModel, self).__init__()\n",
        "\n",
        "        # Set hyperparameters\n",
        "        self.hidden_size = hidden_size\n",
        "\n",
        "        # Define layers\n",
        "        self.embedding = nn.Embedding(input_size, hidden_size)\n",
        "        self.lstm = nn.LSTM(hidden_size, hidden_size, batch_first=True)\n",
        "        self.fc = nn.Linear(hidden_size, output_size)\n",
        "\n",
        "    def forward(self, x):\n",
        "        # Embed input sequence\n",
        "        embedded = self.embedding(x)\n",
        "\n",
        "        # Apply LSTM layer\n",
        "        output, _ = self.lstm(embedded)\n",
        "\n",
        "        # Extract the last time step and pass through the linear layer\n",
        "        output = self.fc(output[:, -1, :])\n",
        "\n",
        "        return output"
      ],
      "metadata": {
        "id": "Gs0Qs4KY6WbO"
      },
      "execution_count": null,
      "outputs": []
    },
    {
      "cell_type": "code",
      "source": [
        "class GRUModel(nn.Module):\n",
        "    def __init__(self, input_size, hidden_size, output_size):\n",
        "        super(GRUModel, self).__init__()\n",
        "\n",
        "        # Set hyperparameters\n",
        "        self.hidden_size = hidden_size\n",
        "\n",
        "        # Define layers\n",
        "        self.embedding = nn.Embedding(input_size, hidden_size)\n",
        "        self.gru = nn.GRU(hidden_size, hidden_size, batch_first=True)\n",
        "        self.fc = nn.Linear(hidden_size, output_size)\n",
        "\n",
        "    def forward(self, x):\n",
        "        # Pass the input sequence through the embedding layer\n",
        "        embedded = self.embedding(x)\n",
        "\n",
        "        # Apply GRU layer to the embedded sequence\n",
        "        output, hidden_state = self.gru(embedded)\n",
        "\n",
        "        # Extract the last time step's output and pass it through the linear layer\n",
        "        output = self.fc(output[:, -1, :])\n",
        "\n",
        "        return output"
      ],
      "metadata": {
        "id": "KeZStkfs6jQO"
      },
      "execution_count": null,
      "outputs": []
    },
    {
      "cell_type": "code",
      "source": [
        "def count_parameters(model):\n",
        "    # Count the number of trainable parameters in the model\n",
        "    num_params = sum(p.numel() for p in model.parameters() if p.requires_grad)\n",
        "    return num_params\n"
      ],
      "metadata": {
        "id": "TnlBYA0e6-S1"
      },
      "execution_count": null,
      "outputs": []
    },
    {
      "cell_type": "code",
      "source": [
        "hidden_size = 256\n",
        "learning_rate = 0.002\n",
        "epochs = 130"
      ],
      "metadata": {
        "id": "Sxc-FdNO8a-4"
      },
      "execution_count": null,
      "outputs": []
    },
    {
      "cell_type": "code",
      "source": [
        "\n",
        "\n",
        "def train_and_validate(model, X_train, y_train, X_val, y_val, criterion, optimizer, epochs, device):\n",
        "    \"\"\"\n",
        "    Train and validate a PyTorch model.\n",
        "\n",
        "    Args:\n",
        "        model (nn.Module): The PyTorch model.\n",
        "        X_train (torch.Tensor): Training input data.\n",
        "        y_train (torch.Tensor): Training target data.\n",
        "        X_val (torch.Tensor): Validation input data.\n",
        "        y_val (torch.Tensor): Validation target data.\n",
        "        criterion: Loss function.\n",
        "        optimizer: Optimizer for training.\n",
        "        epochs (int): Number of training epochs.\n",
        "        device (torch.device): Device to which the model and data are moved.\n",
        "\n",
        "    Returns:\n",
        "        None\n",
        "    \"\"\"\n",
        "\n",
        "    model = model.to(device)\n",
        "    X_train, y_train = X_train.to(device), y_train.to(device)\n",
        "    X_val, y_val = X_val.to(device), y_val.to(device)\n",
        "\n",
        "    start_time = time.time()\n",
        "\n",
        "    for epoch in range(epochs):\n",
        "        model.train()\n",
        "        optimizer.zero_grad()\n",
        "        output = model(X_train)\n",
        "        loss = criterion(output, y_train)\n",
        "        loss.backward()\n",
        "        optimizer.step()\n",
        "\n",
        "        if (epoch + 1) % 10 == 0:\n",
        "            model.eval()\n",
        "            with torch.no_grad():\n",
        "                val_output = model(X_val)\n",
        "                val_loss = criterion(val_output, y_val)\n",
        "                _, predicted = torch.max(val_output, 1)\n",
        "                val_accuracy = (predicted == y_val).float().mean()\n",
        "\n",
        "            # Print training and validation results\n",
        "            print(f'Epoch {epoch + 1}, Loss: {loss.item()}, Validation Loss: {val_loss.item()}, Validation Accuracy: {val_accuracy.item()}')\n",
        "\n",
        "    end_time = time.time()\n",
        "    execution_time = end_time - start_time\n",
        "    print(f\"Total Execution Time: {execution_time} seconds\")\n"
      ],
      "metadata": {
        "id": "suCHW6Gh8uhK"
      },
      "execution_count": null,
      "outputs": []
    },
    {
      "cell_type": "code",
      "source": [
        "# Prepare dataset for sequences of length 10\n",
        "X_10, y_10 = prepare_dataset(text, max_length=10)\n",
        "\n",
        "# Split the data into training and validation sets using train_test_split\n",
        "X_train_10, X_val_10, y_train_10, y_val_10 = train_test_split(X_10, y_10, test_size=0.2, random_state=42)\n",
        "\n",
        "# Convert NumPy arrays to PyTorch tensors\n",
        "X_train_10 = torch.tensor(X_train_10, dtype=torch.long)\n",
        "y_train_10 = torch.tensor(y_train_10, dtype=torch.long)\n",
        "X_val_10 = torch.tensor(X_val_10, dtype=torch.long)\n",
        "y_val_10 = torch.tensor(y_val_10, dtype=torch.long)\n",
        "\n"
      ],
      "metadata": {
        "id": "DGeymmCB9D4p"
      },
      "execution_count": null,
      "outputs": []
    },
    {
      "cell_type": "code",
      "source": [
        "\n",
        "\n",
        "# Prepare dataset for sequences of length 20\n",
        "X_20, y_20 = prepare_dataset(text, max_length=20)\n",
        "\n",
        "# Split the data into training and validation sets\n",
        "X_train_20, X_val_20, y_train_20, y_val_20 = train_test_split(X_20, y_20, test_size=0.2, random_state=42)\n",
        "\n",
        "# Convert NumPy arrays to PyTorch tensors\n",
        "X_train_20 = torch.tensor(X_train_20, dtype=torch.long)\n",
        "y_train_20 = torch.tensor(y_train_20, dtype=torch.long)\n",
        "X_val_20 = torch.tensor(X_val_20, dtype=torch.long)\n",
        "y_val_20 = torch.tensor(y_val_20, dtype=torch.long)\n"
      ],
      "metadata": {
        "id": "ZFPTsvRc9cqy"
      },
      "execution_count": null,
      "outputs": []
    },
    {
      "cell_type": "code",
      "source": [
        "# Prepare dataset for sequences of length 30\n",
        "X_30, y_30 = prepare_dataset(text, max_length=30)\n",
        "\n",
        "# Split the data into training and validation sets\n",
        "X_train_30, X_val_30, y_train_30, y_val_30 = train_test_split(X_30, y_30, test_size=0.2, random_state=42)\n",
        "\n",
        "# Convert NumPy arrays to PyTorch tensors\n",
        "X_train_30 = torch.tensor(X_train_30, dtype=torch.long)\n",
        "y_train_30 = torch.tensor(y_train_30, dtype=torch.long)\n",
        "X_val_30 = torch.tensor(X_val_30, dtype=torch.long)\n",
        "y_val_30 = torch.tensor(y_val_30, dtype=torch.long)"
      ],
      "metadata": {
        "id": "cntOUxKt9qp6"
      },
      "execution_count": null,
      "outputs": []
    },
    {
      "cell_type": "code",
      "source": [
        "rnn_model = RNNModel(len(unique_chars), hidden_size, len(unique_chars))\n",
        "lstm_model = LSTMModel(len(unique_chars), hidden_size, len(unique_chars))\n",
        "gru_model = GRUModel(len(unique_chars), hidden_size, len(unique_chars))\n"
      ],
      "metadata": {
        "id": "FRJLFhrq92Rt"
      },
      "execution_count": null,
      "outputs": []
    },
    {
      "cell_type": "code",
      "source": [
        "# Define CrossEntropyLoss criterion\n",
        "criterion = nn.CrossEntropyLoss()\n",
        "\n",
        "# Define Adam optimizers for RNN, LSTM, and GRU models\n",
        "rnn_optimizer = optim.Adam(params=rnn_model.parameters(), lr=learning_rate)\n",
        "lstm_optimizer = optim.Adam(params=lstm_model.parameters(), lr=learning_rate)\n",
        "gru_optimizer = optim.Adam(params=gru_model.parameters(), lr=learning_rate)\n"
      ],
      "metadata": {
        "id": "YTmIbFBR_Ila"
      },
      "execution_count": null,
      "outputs": []
    },
    {
      "cell_type": "code",
      "source": [
        "device = torch.device(\"cuda\" if torch.cuda.is_available() else \"cpu\")"
      ],
      "metadata": {
        "id": "oPupLIprDpAv"
      },
      "execution_count": null,
      "outputs": []
    },
    {
      "cell_type": "code",
      "source": [
        "print(\"RNN Model:\")\n",
        "train_and_validate(rnn_model, X_train_10, y_train_10, X_val_10, y_val_10, criterion, rnn_optimizer,epochs,device)\n",
        "print(get_num_params(rnn_model))"
      ],
      "metadata": {
        "colab": {
          "base_uri": "https://localhost:8080/"
        },
        "id": "9TPfidnQCAy7",
        "outputId": "10b6b8ab-6868-44ab-b5cd-117e3bc9ad51"
      },
      "execution_count": null,
      "outputs": [
        {
          "output_type": "stream",
          "name": "stdout",
          "text": [
            "RNN Model:\n",
            "Epoch 10, Loss: 2.204080581665039, Validation Loss: 2.3146212100982666, Validation Accuracy: 0.3836477994918823\n",
            "Epoch 20, Loss: 1.750116229057312, Validation Loss: 2.124817132949829, Validation Accuracy: 0.4109014570713043\n",
            "Epoch 30, Loss: 1.40797758102417, Validation Loss: 1.9943206310272217, Validation Accuracy: 0.446540892124176\n",
            "Epoch 40, Loss: 1.1076242923736572, Validation Loss: 1.9384828805923462, Validation Accuracy: 0.48427674174308777\n",
            "Epoch 50, Loss: 0.8298348188400269, Validation Loss: 1.9624595642089844, Validation Accuracy: 0.5199161171913147\n",
            "Epoch 60, Loss: 0.5753982663154602, Validation Loss: 2.032067060470581, Validation Accuracy: 0.5031446814537048\n",
            "Epoch 70, Loss: 0.3654784858226776, Validation Loss: 2.16438889503479, Validation Accuracy: 0.5178197026252747\n",
            "Epoch 80, Loss: 0.2133205384016037, Validation Loss: 2.3261218070983887, Validation Accuracy: 0.5031446814537048\n",
            "Epoch 90, Loss: 0.12231635302305222, Validation Loss: 2.464176654815674, Validation Accuracy: 0.5073375105857849\n",
            "Epoch 100, Loss: 0.07821176201105118, Validation Loss: 2.593946933746338, Validation Accuracy: 0.5094339847564697\n",
            "Epoch 110, Loss: 0.058724675327539444, Validation Loss: 2.701935291290283, Validation Accuracy: 0.5115303993225098\n",
            "Epoch 120, Loss: 0.049837637692689896, Validation Loss: 2.7907183170318604, Validation Accuracy: 0.5115303993225098\n",
            "Epoch 130, Loss: 0.044626981019973755, Validation Loss: 2.853158473968506, Validation Accuracy: 0.5157232880592346\n",
            "Execution Time: 50.781779527664185 seconds\n",
            "154669\n"
          ]
        }
      ]
    },
    {
      "cell_type": "code",
      "source": [
        "train_and_validate(rnn_model, X_train_20, y_train_20, X_val_20, y_val_20, criterion, rnn_optimizer, epochs,device)\n",
        "print(get_num_params(rnn_model))"
      ],
      "metadata": {
        "colab": {
          "base_uri": "https://localhost:8080/"
        },
        "id": "HLsFVo2zDSTb",
        "outputId": "8d1b71c8-ff9b-4be6-9c76-25ae38eb10a5"
      },
      "execution_count": null,
      "outputs": [
        {
          "output_type": "stream",
          "name": "stdout",
          "text": [
            "Epoch 10, Loss: 0.30162516236305237, Validation Loss: 0.9746853113174438, Validation Accuracy: 0.7810526490211487\n",
            "Epoch 20, Loss: 0.14231836795806885, Validation Loss: 1.0017677545547485, Validation Accuracy: 0.7473683953285217\n",
            "Epoch 30, Loss: 0.08050323277711868, Validation Loss: 1.0949468612670898, Validation Accuracy: 0.7347368597984314\n",
            "Epoch 40, Loss: 0.04798579588532448, Validation Loss: 1.1397864818572998, Validation Accuracy: 0.7410526275634766\n",
            "Epoch 50, Loss: 0.0322086475789547, Validation Loss: 1.1717268228530884, Validation Accuracy: 0.7389473915100098\n",
            "Epoch 60, Loss: 0.02426544949412346, Validation Loss: 1.2148566246032715, Validation Accuracy: 0.730526328086853\n",
            "Epoch 70, Loss: 0.02012496255338192, Validation Loss: 1.2314369678497314, Validation Accuracy: 0.7263157963752747\n",
            "Epoch 80, Loss: 0.017672916874289513, Validation Loss: 1.2462728023529053, Validation Accuracy: 0.7242105007171631\n",
            "Epoch 90, Loss: 0.016013430431485176, Validation Loss: 1.261729121208191, Validation Accuracy: 0.7178947329521179\n",
            "Epoch 100, Loss: 0.014818760566413403, Validation Loss: 1.2741388082504272, Validation Accuracy: 0.7115789651870728\n",
            "Epoch 110, Loss: 0.0139092355966568, Validation Loss: 1.28645658493042, Validation Accuracy: 0.7136842012405396\n",
            "Epoch 120, Loss: 0.013220901601016521, Validation Loss: 1.2965768575668335, Validation Accuracy: 0.7052631378173828\n",
            "Epoch 130, Loss: 0.01257253997027874, Validation Loss: 1.3060550689697266, Validation Accuracy: 0.7052631378173828\n",
            "Total Execution Time: 124.40015530586243 seconds\n",
            "154669\n"
          ]
        }
      ]
    },
    {
      "cell_type": "code",
      "source": [
        "print(\"RNN Model:\")\n",
        "train_and_validate(rnn_model, X_train_30, y_train_30, X_val_30, y_val_30, criterion, rnn_optimizer, epochs,device)\n",
        "print(get_num_params(rnn_model))\n"
      ],
      "metadata": {
        "colab": {
          "base_uri": "https://localhost:8080/"
        },
        "id": "7Q4mEOkuJMUX",
        "outputId": "9a85fbb9-f797-450b-8098-c6621294b592"
      },
      "execution_count": null,
      "outputs": [
        {
          "output_type": "stream",
          "name": "stdout",
          "text": [
            "RNN Model:\n",
            "Epoch 10, Loss: 0.019167689606547356, Validation Loss: 0.7448652982711792, Validation Accuracy: 0.8287526369094849\n",
            "Epoch 20, Loss: 0.01282532513141632, Validation Loss: 0.7504331469535828, Validation Accuracy: 0.8287526369094849\n",
            "Epoch 30, Loss: 0.009540220722556114, Validation Loss: 0.7375034689903259, Validation Accuracy: 0.8350951671600342\n",
            "Epoch 40, Loss: 0.007875164039433002, Validation Loss: 0.7486464977264404, Validation Accuracy: 0.8329809904098511\n",
            "Epoch 50, Loss: 0.006886853836476803, Validation Loss: 0.7524468302726746, Validation Accuracy: 0.8287526369094849\n",
            "Epoch 60, Loss: 0.006215290632098913, Validation Loss: 0.7601218223571777, Validation Accuracy: 0.8245242834091187\n",
            "Epoch 70, Loss: 0.005718742497265339, Validation Loss: 0.7656318545341492, Validation Accuracy: 0.8266384601593018\n",
            "Epoch 80, Loss: 0.005327148362994194, Validation Loss: 0.7727333903312683, Validation Accuracy: 0.8245242834091187\n",
            "Epoch 90, Loss: 0.005004767794162035, Validation Loss: 0.7797280550003052, Validation Accuracy: 0.8266384601593018\n",
            "Epoch 100, Loss: 0.00473193870857358, Validation Loss: 0.7852228283882141, Validation Accuracy: 0.8266384601593018\n",
            "Epoch 110, Loss: 0.004496220964938402, Validation Loss: 0.7908105850219727, Validation Accuracy: 0.8245242834091187\n",
            "Epoch 120, Loss: 0.004289602395147085, Validation Loss: 0.7961214184761047, Validation Accuracy: 0.8224101662635803\n",
            "Epoch 130, Loss: 0.004106463398784399, Validation Loss: 0.8013018369674683, Validation Accuracy: 0.8181818127632141\n",
            "Total Execution Time: 183.08142852783203 seconds\n",
            "154669\n"
          ]
        }
      ]
    },
    {
      "cell_type": "code",
      "source": [
        "print(\"LSTM Model:\")\n",
        "train_and_validate(lstm_model, X_train_10, y_train_10, X_val_10, y_val_10, criterion, lstm_optimizer,epochs, device)\n",
        "print(get_num_params(lstm_model))"
      ],
      "metadata": {
        "colab": {
          "base_uri": "https://localhost:8080/"
        },
        "id": "g1lg_rs0JZQl",
        "outputId": "509d92cf-ad73-4224-951c-c2ff526cf9bf"
      },
      "execution_count": null,
      "outputs": [
        {
          "output_type": "stream",
          "name": "stdout",
          "text": [
            "LSTM Model:\n",
            "Epoch 10, Loss: 2.5516715049743652, Validation Loss: 2.485450029373169, Validation Accuracy: 0.3249475955963135\n",
            "Epoch 20, Loss: 2.0436315536499023, Validation Loss: 2.176022529602051, Validation Accuracy: 0.42138364911079407\n",
            "Epoch 30, Loss: 1.6361463069915771, Validation Loss: 2.0043509006500244, Validation Accuracy: 0.44863730669021606\n",
            "Epoch 40, Loss: 1.2730463743209839, Validation Loss: 1.8949774503707886, Validation Accuracy: 0.48218029737472534\n",
            "Epoch 50, Loss: 0.9295815229415894, Validation Loss: 1.864094614982605, Validation Accuracy: 0.5052410960197449\n",
            "Epoch 60, Loss: 0.6324527263641357, Validation Loss: 1.8942550420761108, Validation Accuracy: 0.5073375105857849\n",
            "Epoch 70, Loss: 0.3773435354232788, Validation Loss: 1.9715511798858643, Validation Accuracy: 0.4947589039802551\n",
            "Epoch 80, Loss: 0.20819148421287537, Validation Loss: 2.089708089828491, Validation Accuracy: 0.46960169076919556\n",
            "Epoch 90, Loss: 0.11929092556238174, Validation Loss: 2.2224555015563965, Validation Accuracy: 0.46960169076919556\n",
            "Epoch 100, Loss: 0.07871586829423904, Validation Loss: 2.3335845470428467, Validation Accuracy: 0.46750524640083313\n",
            "Epoch 110, Loss: 0.060171473771333694, Validation Loss: 2.413219690322876, Validation Accuracy: 0.473794549703598\n",
            "Epoch 120, Loss: 0.05089130625128746, Validation Loss: 2.4779937267303467, Validation Accuracy: 0.46960169076919556\n",
            "Epoch 130, Loss: 0.045768577605485916, Validation Loss: 2.52958607673645, Validation Accuracy: 0.47589099407196045\n",
            "Total Execution Time: 240.92932629585266 seconds\n",
            "549421\n"
          ]
        }
      ]
    },
    {
      "cell_type": "code",
      "source": [
        "\n",
        "train_and_validate(lstm_model, X_train_20, y_train_20, X_val_20, y_val_20, criterion, lstm_optimizer, epochs, device)\n",
        "print(get_num_params(lstm_model))"
      ],
      "metadata": {
        "colab": {
          "base_uri": "https://localhost:8080/"
        },
        "id": "63W5o6PAKM67",
        "outputId": "226458b0-f1ff-469c-a77a-cd041489fc96"
      },
      "execution_count": null,
      "outputs": [
        {
          "output_type": "stream",
          "name": "stdout",
          "text": [
            "Epoch 10, Loss: 0.5648934841156006, Validation Loss: 0.9973219633102417, Validation Accuracy: 0.7410526275634766\n",
            "Epoch 20, Loss: 0.32111856341362, Validation Loss: 1.062440276145935, Validation Accuracy: 0.7136842012405396\n",
            "Epoch 30, Loss: 0.1807396113872528, Validation Loss: 1.1228240728378296, Validation Accuracy: 0.6926316022872925\n",
            "Epoch 40, Loss: 0.10763271898031235, Validation Loss: 1.161333680152893, Validation Accuracy: 0.6863157749176025\n",
            "Epoch 50, Loss: 0.06855873763561249, Validation Loss: 1.1874879598617554, Validation Accuracy: 0.6800000071525574\n",
            "Epoch 60, Loss: 0.04864540323615074, Validation Loss: 1.2171175479888916, Validation Accuracy: 0.6694737076759338\n",
            "Epoch 70, Loss: 0.037469975650310516, Validation Loss: 1.2383980751037598, Validation Accuracy: 0.6673684120178223\n",
            "Epoch 80, Loss: 0.030485359951853752, Validation Loss: 1.2610251903533936, Validation Accuracy: 0.6652631759643555\n",
            "Epoch 90, Loss: 0.02603078819811344, Validation Loss: 1.2806742191314697, Validation Accuracy: 0.6568421125411987\n",
            "Epoch 100, Loss: 0.02295486256480217, Validation Loss: 1.2931548357009888, Validation Accuracy: 0.6547368168830872\n",
            "Epoch 110, Loss: 0.020699672400951385, Validation Loss: 1.3043904304504395, Validation Accuracy: 0.6547368168830872\n",
            "Epoch 120, Loss: 0.01897086761891842, Validation Loss: 1.3149067163467407, Validation Accuracy: 0.6547368168830872\n",
            "Epoch 130, Loss: 0.017601871863007545, Validation Loss: 1.3247586488723755, Validation Accuracy: 0.6589473485946655\n",
            "Total Execution Time: 475.90731930732727 seconds\n",
            "549421\n"
          ]
        }
      ]
    },
    {
      "cell_type": "code",
      "source": [
        "\n",
        "train_and_validate(lstm_model, X_train_30, y_train_30, X_val_30, y_val_30, criterion, lstm_optimizer, epochs, device)\n",
        "print(get_num_params(lstm_model))"
      ],
      "metadata": {
        "colab": {
          "base_uri": "https://localhost:8080/"
        },
        "id": "D1glZAGhKq_v",
        "outputId": "d52d5bc4-e37d-4892-ebdf-5667cb8b1014"
      },
      "execution_count": null,
      "outputs": [
        {
          "output_type": "stream",
          "name": "stdout",
          "text": [
            "Epoch 10, Loss: 0.08281832188367844, Validation Loss: 0.4681369662284851, Validation Accuracy: 0.8816067576408386\n",
            "Epoch 20, Loss: 0.03869743272662163, Validation Loss: 0.561776340007782, Validation Accuracy: 0.8562368154525757\n",
            "Epoch 30, Loss: 0.023055076599121094, Validation Loss: 0.5998199582099915, Validation Accuracy: 0.8372092843055725\n",
            "Epoch 40, Loss: 0.016188932582736015, Validation Loss: 0.6104481220245361, Validation Accuracy: 0.8393234610557556\n",
            "Epoch 50, Loss: 0.0127890445291996, Validation Loss: 0.6243615746498108, Validation Accuracy: 0.8372092843055725\n",
            "Epoch 60, Loss: 0.01078642439097166, Validation Loss: 0.6334517598152161, Validation Accuracy: 0.8350951671600342\n",
            "Epoch 70, Loss: 0.009466378018260002, Validation Loss: 0.6414098739624023, Validation Accuracy: 0.8372092843055725\n",
            "Epoch 80, Loss: 0.008511037565767765, Validation Loss: 0.6481615900993347, Validation Accuracy: 0.8435518145561218\n",
            "Epoch 90, Loss: 0.0077705979347229, Validation Loss: 0.6557490825653076, Validation Accuracy: 0.8393234610557556\n",
            "Epoch 100, Loss: 0.007170234341174364, Validation Loss: 0.6638142466545105, Validation Accuracy: 0.8350951671600342\n",
            "Epoch 110, Loss: 0.006668523885309696, Validation Loss: 0.6722006797790527, Validation Accuracy: 0.8329809904098511\n",
            "Epoch 120, Loss: 0.0062414780259132385, Validation Loss: 0.6804379224777222, Validation Accuracy: 0.8287526369094849\n",
            "Epoch 130, Loss: 0.0058732773177325726, Validation Loss: 0.6888052821159363, Validation Accuracy: 0.830866813659668\n",
            "Total Execution Time: 699.1253402233124 seconds\n",
            "549421\n"
          ]
        }
      ]
    },
    {
      "cell_type": "code",
      "source": [
        "print(\"GRU Model:\")\n",
        "train_and_validate(gru_model, X_train_10, y_train_10, X_val_10, y_val_10, criterion, gru_optimizer,epochs, device)\n",
        "print(get_num_params(gru_model))"
      ],
      "metadata": {
        "colab": {
          "base_uri": "https://localhost:8080/"
        },
        "id": "9ixXXq3Mfs1u",
        "outputId": "48389316-c61f-4f69-be7d-c5a296495e82"
      },
      "execution_count": 88,
      "outputs": [
        {
          "output_type": "stream",
          "name": "stdout",
          "text": [
            "GRU Model:\n",
            "Epoch 10, Loss: 2.344938039779663, Validation Loss: 2.34242844581604, Validation Accuracy: 0.3563941419124603\n",
            "Epoch 20, Loss: 1.8512067794799805, Validation Loss: 2.111920118331909, Validation Accuracy: 0.4297693967819214\n",
            "Epoch 30, Loss: 1.454903244972229, Validation Loss: 1.9604456424713135, Validation Accuracy: 0.4716981053352356\n",
            "Epoch 40, Loss: 1.1046106815338135, Validation Loss: 1.8878982067108154, Validation Accuracy: 0.5031446814537048\n",
            "Epoch 50, Loss: 0.7899007797241211, Validation Loss: 1.8893554210662842, Validation Accuracy: 0.5220125913619995\n",
            "Epoch 60, Loss: 0.5263925194740295, Validation Loss: 1.9535163640975952, Validation Accuracy: 0.5387840867042542\n",
            "Epoch 70, Loss: 0.32988712191581726, Validation Loss: 2.059784412384033, Validation Accuracy: 0.5324947834014893\n",
            "Epoch 80, Loss: 0.19832926988601685, Validation Loss: 2.2002086639404297, Validation Accuracy: 0.5262054800987244\n",
            "Epoch 90, Loss: 0.11936786025762558, Validation Loss: 2.341063976287842, Validation Accuracy: 0.5220125913619995\n",
            "Epoch 100, Loss: 0.07834824919700623, Validation Loss: 2.460110902786255, Validation Accuracy: 0.5115303993225098\n",
            "Epoch 110, Loss: 0.058779869228601456, Validation Loss: 2.554703712463379, Validation Accuracy: 0.5094339847564697\n",
            "Epoch 120, Loss: 0.04930047318339348, Validation Loss: 2.6286861896514893, Validation Accuracy: 0.5094339847564697\n",
            "Epoch 130, Loss: 0.044195715337991714, Validation Loss: 2.686161994934082, Validation Accuracy: 0.5073375105857849\n",
            "Total Execution Time: 150.4954001903534 seconds\n",
            "417837\n"
          ]
        }
      ]
    },
    {
      "cell_type": "code",
      "source": [
        "print(\"GRU Model:\")\n",
        "train_and_validate(gru_model, X_train_20, y_train_20, X_val_20, y_val_20, criterion, gru_optimizer,epochs, device)\n",
        "print(get_num_params(gru_model))"
      ],
      "metadata": {
        "colab": {
          "base_uri": "https://localhost:8080/"
        },
        "id": "qWKj98YNf3PT",
        "outputId": "fdcc9632-615f-4f10-a721-c1a2e8a897d3"
      },
      "execution_count": 89,
      "outputs": [
        {
          "output_type": "stream",
          "name": "stdout",
          "text": [
            "GRU Model:\n",
            "Epoch 10, Loss: 0.18730255961418152, Validation Loss: 0.888883113861084, Validation Accuracy: 0.8021052479743958\n",
            "Epoch 20, Loss: 0.08144550770521164, Validation Loss: 0.9288865923881531, Validation Accuracy: 0.8021052479743958\n",
            "Epoch 30, Loss: 0.04682812839746475, Validation Loss: 1.0188289880752563, Validation Accuracy: 0.7810526490211487\n",
            "Epoch 40, Loss: 0.03153342753648758, Validation Loss: 1.071380853652954, Validation Accuracy: 0.7810526490211487\n",
            "Epoch 50, Loss: 0.022716475650668144, Validation Loss: 1.097452163696289, Validation Accuracy: 0.7768421173095703\n",
            "Epoch 60, Loss: 0.01781545951962471, Validation Loss: 1.1149767637252808, Validation Accuracy: 0.7768421173095703\n",
            "Epoch 70, Loss: 0.015446878038346767, Validation Loss: 1.1298617124557495, Validation Accuracy: 0.7768421173095703\n",
            "Epoch 80, Loss: 0.014033342711627483, Validation Loss: 1.1394327878952026, Validation Accuracy: 0.7789473533630371\n",
            "Epoch 90, Loss: 0.013084528967738152, Validation Loss: 1.1501317024230957, Validation Accuracy: 0.7747368216514587\n",
            "Epoch 100, Loss: 0.012386069633066654, Validation Loss: 1.159509539604187, Validation Accuracy: 0.7726315855979919\n",
            "Epoch 110, Loss: 0.0118402149528265, Validation Loss: 1.1673287153244019, Validation Accuracy: 0.7726315855979919\n",
            "Epoch 120, Loss: 0.011396801099181175, Validation Loss: 1.175555944442749, Validation Accuracy: 0.7705262899398804\n",
            "Epoch 130, Loss: 0.011026573367416859, Validation Loss: 1.1828545331954956, Validation Accuracy: 0.7684210538864136\n",
            "Total Execution Time: 305.0897607803345 seconds\n",
            "417837\n"
          ]
        }
      ]
    },
    {
      "cell_type": "code",
      "source": [
        "print(\"GRU Model:\")\n",
        "train_and_validate(gru_model, X_train_30, y_train_30, X_val_30, y_val_30, criterion, gru_optimizer,epochs, device)\n",
        "print(get_num_params(gru_model))"
      ],
      "metadata": {
        "colab": {
          "base_uri": "https://localhost:8080/"
        },
        "id": "MRI7ksfGgTEo",
        "outputId": "07a3c968-08fa-4039-8436-7c5422538828"
      },
      "execution_count": 90,
      "outputs": [
        {
          "output_type": "stream",
          "name": "stdout",
          "text": [
            "GRU Model:\n",
            "Epoch 10, Loss: 0.061818927526474, Validation Loss: 0.4742857813835144, Validation Accuracy: 0.8816067576408386\n",
            "Epoch 20, Loss: 0.02443995326757431, Validation Loss: 0.5293704867362976, Validation Accuracy: 0.8710359334945679\n",
            "Epoch 30, Loss: 0.014393078163266182, Validation Loss: 0.5423020124435425, Validation Accuracy: 0.873150110244751\n",
            "Epoch 40, Loss: 0.009872260503470898, Validation Loss: 0.5413827300071716, Validation Accuracy: 0.8773784637451172\n",
            "Epoch 50, Loss: 0.007356345187872648, Validation Loss: 0.5511928796768188, Validation Accuracy: 0.8773784637451172\n",
            "Epoch 60, Loss: 0.006115723866969347, Validation Loss: 0.5615842342376709, Validation Accuracy: 0.8752642869949341\n",
            "Epoch 70, Loss: 0.005405019968748093, Validation Loss: 0.5673173069953918, Validation Accuracy: 0.8773784637451172\n",
            "Epoch 80, Loss: 0.0049299742095172405, Validation Loss: 0.5732458829879761, Validation Accuracy: 0.8752642869949341\n",
            "Epoch 90, Loss: 0.004583163186907768, Validation Loss: 0.5770503878593445, Validation Accuracy: 0.8752642869949341\n",
            "Epoch 100, Loss: 0.00431198813021183, Validation Loss: 0.582453191280365, Validation Accuracy: 0.8752642869949341\n",
            "Epoch 110, Loss: 0.0040903761982917786, Validation Loss: 0.5874863266944885, Validation Accuracy: 0.8710359334945679\n",
            "Epoch 120, Loss: 0.00390361319296062, Validation Loss: 0.592032253742218, Validation Accuracy: 0.8710359334945679\n",
            "Epoch 130, Loss: 0.003742736531421542, Validation Loss: 0.5965951681137085, Validation Accuracy: 0.8668076395988464\n",
            "Total Execution Time: 452.4639661312103 seconds\n",
            "417837\n"
          ]
        }
      ]
    }
  ]
}